{
  "nbformat": 4,
  "nbformat_minor": 0,
  "metadata": {
    "colab": {
      "provenance": [],
      "authorship_tag": "ABX9TyP1VnB4VF/0nMufS8OBdPNd",
      "include_colab_link": true
    },
    "kernelspec": {
      "name": "python3",
      "display_name": "Python 3"
    },
    "language_info": {
      "name": "python"
    }
  },
  "cells": [
    {
      "cell_type": "markdown",
      "metadata": {
        "id": "view-in-github",
        "colab_type": "text"
      },
      "source": [
        "<a href=\"https://colab.research.google.com/github/fherenillaa/fherenillaa.github.io/blob/main/Fherenilla_205.ipynb\" target=\"_parent\"><img src=\"https://colab.research.google.com/assets/colab-badge.svg\" alt=\"Open In Colab\"/></a>"
      ]
    },
    {
      "cell_type": "code",
      "source": [
        "from bs4 import BeautifulSoup\n",
        "import requests as rs\n",
        "import pandas as pd"
      ],
      "metadata": {
        "id": "_9X10hHNmwBQ"
      },
      "execution_count": 91,
      "outputs": []
    },
    {
      "cell_type": "code",
      "source": [
        "link = 'https://www.sephora.co.id/categories/makeup?page'\n",
        "page = rs.get(link)\n",
        "page"
      ],
      "metadata": {
        "colab": {
          "base_uri": "https://localhost:8080/"
        },
        "id": "Q_wRvGjuki7z",
        "outputId": "f2aab949-9722-482c-bc56-5fbae96ff003"
      },
      "execution_count": 99,
      "outputs": [
        {
          "output_type": "execute_result",
          "data": {
            "text/plain": [
              "<Response [200]>"
            ]
          },
          "metadata": {},
          "execution_count": 99
        }
      ]
    },
    {
      "cell_type": "code",
      "source": [
        "brand = []\n",
        "nama = []\n",
        "harga = []\n",
        "jumlah_review = []\n",
        "variasi = []\n",
        "gambar = []\n",
        "\n",
        "\n",
        "root = 'https://www.sephora.co.id/categories/makeup?page='\n",
        "\n",
        "for page in range(1, 36):\n",
        "    url = rs.get(root + str(page))\n",
        "    soup = BeautifulSoup(url.text, 'html.parser')\n",
        "\n",
        "    def scraping(soup):\n",
        "        produk = soup.findAll('div', {'class': 'product-card'})\n",
        "\n",
        "        for i in produk:\n",
        "            brnd = i.find(\"div\", {\"class\": \"brand\"})\n",
        "            nm = i.find(\"div\", {\"class\": \"product-name\"})\n",
        "            hrga = i.find(\"div\", {\"class\": \"prices\"})\n",
        "            rvw = i.find(\"span\", {\"class\": \"reviews-count\"})\n",
        "            vrsi = i.find(\"div\", {\"class\": \"variants-count\"})\n",
        "            pict = i.find(\"a\", {\"class\": \"product-card-image-link\"}).find('img')['src']\n",
        "\n",
        "            brand.append(brnd.text.strip() if brnd else None)\n",
        "            nama.append(nm.text.strip() if nm else None)\n",
        "            harga.append(hrga.text.strip() if hrga else None)\n",
        "            jumlah_review.append(rvw.text.strip() if rvw else None)\n",
        "            variasi.append(vrsi.text.strip() if vrsi else None)\n",
        "            gambar.append(pict if pict else None)\n",
        "\n",
        "    scraping(soup)"
      ],
      "metadata": {
        "id": "co6g6O2xRWIa"
      },
      "execution_count": 104,
      "outputs": []
    },
    {
      "cell_type": "code",
      "source": [
        "len (brand), len (nama), len (harga), len (jumlah_review), len (variasi), len (gambar)"
      ],
      "metadata": {
        "colab": {
          "base_uri": "https://localhost:8080/"
        },
        "id": "MTtbymg_Oj2k",
        "outputId": "62293ac2-c326-4b22-dfc2-946c475d9eac"
      },
      "execution_count": 105,
      "outputs": [
        {
          "output_type": "execute_result",
          "data": {
            "text/plain": [
              "(1260, 1260, 1260, 1260, 1260, 1260)"
            ]
          },
          "metadata": {},
          "execution_count": 105
        }
      ]
    },
    {
      "cell_type": "code",
      "source": [
        "df = pd.DataFrame(\n",
        "    {'Brand': brand,\n",
        "     'Nama': nama,\n",
        "     'Harga': harga,\n",
        "     'Jumlah Review': jumlah_review,\n",
        "     'Variasi': variasi,\n",
        "     'Foto Produk': gambar\n",
        "     })\n",
        "\n",
        "print(df.head())\n",
        "\n",
        "\n",
        "df.to_csv(\"Produk Make Up Sephora Indonesia.csv\", index=False)\n",
        "print('Data berhasil disimpan ke \"Produk Make Up Sephora Indonesia.csv\"')"
      ],
      "metadata": {
        "colab": {
          "base_uri": "https://localhost:8080/"
        },
        "id": "B9Q9BNr28F59",
        "outputId": "72bdcf6a-1708-46c7-d947-aa160a0d9605"
      },
      "execution_count": 103,
      "outputs": [
        {
          "output_type": "stream",
          "name": "stdout",
          "text": [
            "                Brand                            Nama  \\\n",
            "0                DIOR                 Addict Lip Tint   \n",
            "1         Rare Beauty       Soft Pinch Tinted Lip Oil   \n",
            "2  Sephora Collection                 Cream Lip Stain   \n",
            "3                DIOR        Addict Lip Glow Lip Balm   \n",
            "4  Yves Saint Laurent  Touche Éclat Glow-Pact Cushion   \n",
            "\n",
            "                                     Harga Jumlah Review    Variasi  \\\n",
            "0                               Rp 700.000         (732)  13 shades   \n",
            "1  Rp 396.000\\n   Rp 316.800 \\n    20% OFF        (5701)   8 shades   \n",
            "2                               Rp 288.000        (1788)  24 shades   \n",
            "3                               Rp 700.000        (1560)  12 shades   \n",
            "4                             Rp 1.300.000          (10)   6 shades   \n",
            "\n",
            "                                         Foto Produk  \n",
            "0  https://image-optimizer-id.production.sephora-...  \n",
            "1  https://image-optimizer-id.production.sephora-...  \n",
            "2  https://image-optimizer-id.production.sephora-...  \n",
            "3  https://image-optimizer-id.production.sephora-...  \n",
            "4  https://image-optimizer-id.production.sephora-...  \n",
            "Data berhasil disimpan ke \"Produk Make Up Sephora Indonesia.csv\"\n"
          ]
        }
      ]
    },
    {
      "cell_type": "markdown",
      "source": [],
      "metadata": {
        "id": "gX8_XIa4SzL-"
      }
    }
  ]
}